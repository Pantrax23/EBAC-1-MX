{
 "cells": [
  {
   "cell_type": "code",
   "execution_count": 1,
   "metadata": {},
   "outputs": [
    {
     "name": "stdout",
     "output_type": "stream",
     "text": [
      "el resultado es = 300\n",
      "55\n",
      "resultado iguial 600\n",
      "Prueba grafica en source  45\n",
      "Prueba grafica en source  2\n"
     ]
    }
   ],
   "source": [
    "# PRUEBA PITHON GIT\n",
    "\n",
    "a = 5\n",
    "b = 100\n",
    "c = 3\n",
    "\n",
    "print ('el resultado es =', c*b)\n",
    "\n",
    "f = 50\n",
    "print (a+f)\n",
    "#prueba de edicion\n",
    "\n",
    "d = c*200\n",
    "print('resultado iguial',d)\n",
    "# CAMBIO A FACTOR 200 EL DIRECTORIO \n",
    "\n",
    "# Nueva variable T\n",
    "t = 15 \n",
    "g = 2\n",
    "print('Prueba grafica en source ',t*c)\n",
    "print('Prueba grafica en source ',g)\n"
   ]
  },
  {
   "cell_type": "code",
   "execution_count": null,
   "metadata": {},
   "outputs": [],
   "source": []
  }
 ],
 "metadata": {
  "kernelspec": {
   "display_name": "base",
   "language": "python",
   "name": "python3"
  },
  "language_info": {
   "codemirror_mode": {
    "name": "ipython",
    "version": 3
   },
   "file_extension": ".py",
   "mimetype": "text/x-python",
   "name": "python",
   "nbconvert_exporter": "python",
   "pygments_lexer": "ipython3",
   "version": "3.12.4"
  }
 },
 "nbformat": 4,
 "nbformat_minor": 2
}

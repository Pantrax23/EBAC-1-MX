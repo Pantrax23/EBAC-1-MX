{
 "cells": [
  {
   "cell_type": "code",
   "execution_count": null,
   "metadata": {},
   "outputs": [
    {
     "name": "stdout",
     "output_type": "stream",
     "text": [
      "el resultado es = 300\n",
      "55\n"
     ]
    }
   ],
   "source": [
    "# PRUEBA PITHON GIT\n",
    "\n",
    "a = 5\n",
    "b = 100\n",
    "c = 3\n",
    "\n",
    "print ('el resultado es =', c*b)\n",
    "\n",
    "f = 50\n",
    "print (a+f)\n",
    "#prueba de edicion\n",
    "\n",
    "d = c*100\n",
    "print('resultado iguial',d)\n"
   ]
  },
  {
   "cell_type": "code",
   "execution_count": null,
   "metadata": {},
   "outputs": [],
   "source": []
  }
 ],
 "metadata": {
  "kernelspec": {
   "display_name": "base",
   "language": "python",
   "name": "python3"
  },
  "language_info": {
   "codemirror_mode": {
    "name": "ipython",
    "version": 3
   },
   "file_extension": ".py",
   "mimetype": "text/x-python",
   "name": "python",
   "nbconvert_exporter": "python",
   "pygments_lexer": "ipython3",
   "version": "3.12.4"
  }
 },
 "nbformat": 4,
 "nbformat_minor": 2
}

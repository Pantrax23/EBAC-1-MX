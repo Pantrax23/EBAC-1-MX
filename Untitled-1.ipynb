{
 "cells": [
  {
   "cell_type": "markdown",
   "metadata": {},
   "source": [
    "## Lambda"
   ]
  },
  {
   "cell_type": "code",
   "execution_count": 2,
   "metadata": {},
   "outputs": [
    {
     "data": {
      "text/plain": [
       "6"
      ]
     },
     "execution_count": 2,
     "metadata": {},
     "output_type": "execute_result"
    }
   ],
   "source": [
    "## EJEMPLO\n",
    "def add_one (x):\n",
    "    return x +1\n",
    "add_one (5)"
   ]
  },
  {
   "cell_type": "code",
   "execution_count": 3,
   "metadata": {},
   "outputs": [
    {
     "data": {
      "text/plain": [
       "103"
      ]
     },
     "execution_count": 3,
     "metadata": {},
     "output_type": "execute_result"
    }
   ],
   "source": [
    "## Misma logica con LAMBDA\n",
    "##\n",
    "\n",
    "add_one = lambda x: x+1\n",
    "add_one (102)"
   ]
  },
  {
   "cell_type": "code",
   "execution_count": 5,
   "metadata": {},
   "outputs": [
    {
     "name": "stdout",
     "output_type": "stream",
     "text": [
      "220\n"
     ]
    }
   ],
   "source": [
    "## Ejemplo 1 - suma simple \n",
    "x = lambda a: a + 100\n",
    "print (x(120))"
   ]
  },
  {
   "cell_type": "code",
   "execution_count": 6,
   "metadata": {},
   "outputs": [
    {
     "name": "stdout",
     "output_type": "stream",
     "text": [
      "300\n"
     ]
    }
   ],
   "source": [
    "## Ejemplo 2 Multiplicacion\n",
    "x= lambda a, b: a *b\n",
    "print (x(5,60))"
   ]
  },
  {
   "cell_type": "code",
   "execution_count": 7,
   "metadata": {},
   "outputs": [
    {
     "name": "stdout",
     "output_type": "stream",
     "text": [
      "31\n"
     ]
    }
   ],
   "source": [
    "## Ejemplo 3 - Se puede utilizar cualquier cantidad de argumento\n",
    "x = lambda a, b, c: a + b + c\n",
    "print (x(5,6,20))"
   ]
  },
  {
   "cell_type": "code",
   "execution_count": null,
   "metadata": {},
   "outputs": [
    {
     "name": "stdout",
     "output_type": "stream",
     "text": [
      "20\n"
     ]
    }
   ],
   "source": [
    "## Se puede incluir funciones en los lambda\n",
    "def myfun (n):\n",
    "    return lambda a: a * n ## se puede ajustar con suma / resta\n",
    "\n",
    "## Genera la funcion para multiplicar por el numero 2\n",
    "mydoubler = myfun (2)\n",
    "\n",
    "print (mydoubler(10))"
   ]
  },
  {
   "cell_type": "code",
   "execution_count": null,
   "metadata": {},
   "outputs": [
    {
     "name": "stdout",
     "output_type": "stream",
     "text": [
      "33\n"
     ]
    }
   ],
   "source": [
    "def myfun (n):\n",
    "    return lambda a : a * n\n",
    "\n",
    "## La funcion para triplicar el numero\n",
    "mytripler = myfun(3)\n",
    "\n",
    "## Se palica la funcion\n",
    "print (mytripler(11))"
   ]
  },
  {
   "cell_type": "code",
   "execution_count": 13,
   "metadata": {},
   "outputs": [
    {
     "name": "stdout",
     "output_type": "stream",
     "text": [
      "20\n",
      "33\n"
     ]
    }
   ],
   "source": [
    "## Se puede hacer ambas en uno solo\n",
    "def myfun (n):\n",
    "    return lambda a : a * n\n",
    "\n",
    "mydoubler = myfun (2)\n",
    "mytripler = myfun(3)\n",
    "\n",
    "print (mydoubler(10))\n",
    "print (mytripler(11))"
   ]
  },
  {
   "cell_type": "markdown",
   "metadata": {},
   "source": [
    "## EJEMPLO CON STRING"
   ]
  },
  {
   "cell_type": "code",
   "execution_count": 15,
   "metadata": {},
   "outputs": [
    {
     "data": {
      "text/plain": [
       "'Full name: Ebac Curso De Data Analist'"
      ]
     },
     "execution_count": 15,
     "metadata": {},
     "output_type": "execute_result"
    }
   ],
   "source": [
    "full_name = lambda first, last: f'Full name: {first.title()} {last.title()}'\n",
    "full_name ('EBAC', 'Curso de data analist')"
   ]
  },
  {
   "cell_type": "code",
   "execution_count": 16,
   "metadata": {},
   "outputs": [
    {
     "data": {
      "text/plain": [
       "50"
      ]
     },
     "execution_count": 16,
     "metadata": {},
     "output_type": "execute_result"
    }
   ],
   "source": [
    "## Ejemplo der lambda invocada inmediatamente (IIFE = imediatley invoked funcion excution)\n",
    "\n",
    "(lambda x,y: x * y) (5,10) "
   ]
  },
  {
   "cell_type": "markdown",
   "metadata": {},
   "source": [
    "## Warp up\n"
   ]
  },
  {
   "cell_type": "code",
   "execution_count": null,
   "metadata": {},
   "outputs": [],
   "source": []
  }
 ],
 "metadata": {
  "kernelspec": {
   "display_name": "base",
   "language": "python",
   "name": "python3"
  },
  "language_info": {
   "codemirror_mode": {
    "name": "ipython",
    "version": 3
   },
   "file_extension": ".py",
   "mimetype": "text/x-python",
   "name": "python",
   "nbconvert_exporter": "python",
   "pygments_lexer": "ipython3",
   "version": "3.12.4"
  }
 },
 "nbformat": 4,
 "nbformat_minor": 2
}

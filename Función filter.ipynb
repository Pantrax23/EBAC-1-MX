{
 "cells": [
  {
   "cell_type": "markdown",
   "metadata": {},
   "source": [
    "## Filter\n",
    "\n",
    "- La sintaxis es: filter(function, iterable)\n",
    "Esta función permite extraer valores de iterables. Para extraer estos valores se debe definir una condición que los ítems deben cumplir y generar a su vez una nueva lista de iterables \n",
    "- El primer argumento es objeto función \"function\" y debe ser llamada sin paréntesis\n",
    "- El segundo argumento es un iterable, que puede ser una lista, una tupla, o un set\n",
    "- Filtering se aplica a cada ítem del iterable\n",
    "- Filter es una función built-in, lo que quiere decir que no debe importarse desde ninguna librería\n",
    "- Filter iba a ser eliminada de la versión 3 de Python pero la comunidad pidió que se quede - https://www.artima.com/weblogs/viewpost.jsp?thread=98196"
   ]
  },
  {
   "cell_type": "markdown",
   "metadata": {},
   "source": []
  },
  {
   "cell_type": "code",
   "execution_count": 8,
   "metadata": {},
   "outputs": [
    {
     "data": {
      "text/plain": [
       "[10, 6, 50]"
      ]
     },
     "execution_count": 8,
     "metadata": {},
     "output_type": "execute_result"
    }
   ],
   "source": [
    "## Ejemplo para ver numeros pares en una lista\n",
    "## Se tiene una lista inicial de numeros procesados\n",
    "## Con cada item, se valida se valida su residuo, cuando se divide para 2 sea 0 (condicon par / impar)\n",
    "numbers = [1,3,10,45,6,50]\n",
    "\n",
    "def extract_even (numbers):\n",
    "    even_numbers = []\n",
    "    for number in numbers:\n",
    "        if number % 2 == 0: ## Filtering condicion \n",
    "            even_numbers.append(number)\n",
    "    return even_numbers\n",
    "\n",
    "extract_even(numbers)\n",
    "\n"
   ]
  },
  {
   "cell_type": "code",
   "execution_count": 10,
   "metadata": {},
   "outputs": [
    {
     "data": {
      "text/plain": [
       "4"
      ]
     },
     "execution_count": 10,
     "metadata": {},
     "output_type": "execute_result"
    }
   ],
   "source": [
    "## Funcion MOD\n",
    "\n",
    "10 % 6"
   ]
  },
  {
   "cell_type": "code",
   "execution_count": 12,
   "metadata": {},
   "outputs": [
    {
     "data": {
      "text/plain": [
       "[10, 6, 50]"
      ]
     },
     "execution_count": 12,
     "metadata": {},
     "output_type": "execute_result"
    }
   ],
   "source": [
    "## Lo mismo pero usando \"FILTER\"\n",
    "numbers = [1,3,10,45,6,50]\n",
    "\n",
    "def is_even (number):\n",
    "    return number % 2 == 0\n",
    "\n",
    "list(filter(is_even, numbers))"
   ]
  },
  {
   "cell_type": "code",
   "execution_count": null,
   "metadata": {},
   "outputs": [
    {
     "data": {
      "text/plain": [
       "[1, 2]"
      ]
     },
     "execution_count": 15,
     "metadata": {},
     "output_type": "execute_result"
    }
   ],
   "source": [
    "## Ejemplo de otener numeros positivos\n",
    "## Se hace un loop que valida, uno por uno de los numeros de las listas\n",
    "## y pregunta si son mayores a cero\n",
    "## Si los son se incluyen en la lista de positivos\n",
    "\n",
    "numbers = [-2,-1,0,1,2]\n",
    "\n",
    "def extract_positive (numbers):\n",
    "    positive_number = []\n",
    "    for number in numbers:\n",
    "        if number > 0: \n",
    "            positive_number.append (number)\n",
    "    return positive_number\n",
    "\n",
    "extract_positive (numbers)"
   ]
  },
  {
   "cell_type": "code",
   "execution_count": 16,
   "metadata": {},
   "outputs": [
    {
     "data": {
      "text/plain": [
       "[1, 2]"
      ]
     },
     "execution_count": 16,
     "metadata": {},
     "output_type": "execute_result"
    }
   ],
   "source": [
    "## Alicamos lo anterios con FILTER y LAMBDA\n",
    "numbers = [-2,-1,0,1,2]\n",
    "\n",
    "## Se define la funcion lambda que va aplicarse como filtro (numeros mayores a 0)\n",
    "posititve_numbers = filter(lambda n: n > 0, numbers)\n",
    "posititve_numbers\n",
    "\n",
    "list(posititve_numbers)\n"
   ]
  },
  {
   "cell_type": "code",
   "execution_count": 7,
   "metadata": {},
   "outputs": [
    {
     "name": "stdout",
     "output_type": "stream",
     "text": [
      "Media = 10.692307692307692 Bajo =  -7.128740076825961 Alto =  28.513355461441343\n",
      "Media = 10.69 Bajo = -7.13 Alto = 28.51\n"
     ]
    }
   ],
   "source": [
    "## Elimina outliers de una lisrta de numeros \n",
    "import statistics as st\n",
    "sample = [10,8,10,8,2,7,9,3,34,9,5,9,25]\n",
    "\n",
    "## Calcula l amedia de la muestra, antes de eliminar los outliers\n",
    "mean = st.mean (sample)\n",
    "\n",
    "## Calcula dos deviaciones estandar como el limite bajo y alto para filtrar una lista \n",
    "stdev = st.stdev (sample)\n",
    "low = mean - 2 * stdev\n",
    "high = mean + 2 * stdev\n",
    "\n",
    "print ('Media =',mean, 'Bajo = ',low, 'Alto = ',high )\n",
    "\n",
    "## Formato para 2 decimales\n",
    "print ('Media = {:.2f}'.format(mean), 'Bajo = {:.2f}'.format(low), 'Alto = {:.2f}'.format(high))"
   ]
  },
  {
   "cell_type": "code",
   "execution_count": 8,
   "metadata": {},
   "outputs": [
    {
     "data": {
      "text/plain": [
       "[10, 8, 10, 8, 2, 7, 9, 3, 9, 5, 9, 25]"
      ]
     },
     "execution_count": 8,
     "metadata": {},
     "output_type": "execute_result"
    }
   ],
   "source": [
    "## Continuacio  al codigo de arriba \n",
    "## Los valores de la muestra que estan fuera de los valores bajo y alto\n",
    "## mo van a ser mostrados, utilizando una coobinacion de filter  y una funcion lambda simple \n",
    "## Que condicione lois limites de cada item\n",
    "\n",
    "clean_sample = list(filter(lambda x: low <= x <= high, sample))\n",
    "clean_sample"
   ]
  },
  {
   "cell_type": "code",
   "execution_count": 9,
   "metadata": {},
   "outputs": [
    {
     "name": "stdout",
     "output_type": "stream",
     "text": [
      "True\n",
      "False\n"
     ]
    }
   ],
   "source": [
    "## Funcion para buscar palabras palindromes\n",
    "\n",
    "def is_palindrome (word):\n",
    "    reversed_word = \"\".join(reversed(word))\n",
    "    return word.lower() == reversed_word.lower()\n",
    "\n",
    "## Madam\n",
    "print (is_palindrome (\"Madam\"))\n",
    "## EBAC\n",
    "print (is_palindrome(\"Ebac\"))"
   ]
  },
  {
   "cell_type": "code",
   "execution_count": 10,
   "metadata": {},
   "outputs": [
    {
     "data": {
      "text/plain": [
       "['Ana', 'madam', 'sosos']"
      ]
     },
     "execution_count": 10,
     "metadata": {},
     "output_type": "execute_result"
    }
   ],
   "source": [
    "## Ejemplo de palabras palindromes con FILTER\n",
    "words = ('filter','Ana','hello','world','madam','recrear','sosos')\n",
    "\n",
    "list(filter(is_palindrome,words))\n"
   ]
  },
  {
   "cell_type": "code",
   "execution_count": 11,
   "metadata": {},
   "outputs": [],
   "source": [
    "## TRUCO \n",
    "## Solo esxtraer umeros de las listas\n",
    "\n",
    "def indentity (x):\n",
    "    return x"
   ]
  },
  {
   "cell_type": "code",
   "execution_count": 14,
   "metadata": {},
   "outputs": [
    {
     "data": {
      "text/plain": [
       "[1, 3, 8, 4]"
      ]
     },
     "execution_count": 14,
     "metadata": {},
     "output_type": "execute_result"
    }
   ],
   "source": [
    "## APLICACION DEL TRUCO\n",
    "\n",
    "objects = [1, 3, [], 8, 4, \"\", None, \"\"]\n",
    "list(filter(indentity, objects))"
   ]
  },
  {
   "cell_type": "markdown",
   "metadata": {},
   "source": [
    "## Wrap up\n",
    "\n",
    "- Filter es una opcion que nos permirte encontrar vlores en un lista\n",
    "- se aplica a cada item de una lista"
   ]
  },
  {
   "cell_type": "markdown",
   "metadata": {},
   "source": []
  }
 ],
 "metadata": {
  "kernelspec": {
   "display_name": "base",
   "language": "python",
   "name": "python3"
  },
  "language_info": {
   "codemirror_mode": {
    "name": "ipython",
    "version": 3
   },
   "file_extension": ".py",
   "mimetype": "text/x-python",
   "name": "python",
   "nbconvert_exporter": "python",
   "pygments_lexer": "ipython3",
   "version": "3.12.4"
  }
 },
 "nbformat": 4,
 "nbformat_minor": 2
}
